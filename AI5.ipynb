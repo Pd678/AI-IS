{
 "cells": [
  {
   "cell_type": "code",
   "execution_count": null,
   "id": "f4694150",
   "metadata": {},
   "outputs": [
    {
     "name": "stdout",
     "output_type": "stream",
     "text": [
      "chatbot: Hi, I'm Chatbot. How can I help you today?\n"
     ]
    },
    {
     "name": "stdin",
     "output_type": "stream",
     "text": [
      "You:  hello\n"
     ]
    },
    {
     "name": "stdout",
     "output_type": "stream",
     "text": [
      "Chatbot: Hello there! How are you doing today?\n"
     ]
    }
   ],
   "source": [
    "def chatbot():\n",
    "    print(\"chatbot: Hi, I'm Chatbot. How can I help you today?\")\n",
    "    while True:\n",
    "        user_input = input(\"You: \")\n",
    "        if user_input.lower() == \"bye\":\n",
    "            print(\"Chatbot: Bye! Have a great day.\")\n",
    "            break\n",
    "        elif user_input.lower() == \"hello\":\n",
    "            print(\"Chatbot: Hello there! How are you doing today?\")\n",
    "        elif user_input.lower() == \"how are you\":\n",
    "            print(\"Chatbot: I'm doing great, thanks for asking. What would you like to see?\")\n",
    "        elif user_input.lower() == \"phone\":\n",
    "            print(\"Chatbot: Which brand?\")\n",
    "        elif user_input.lower() == \"apple\":\n",
    "            print(\"Chatbot: Ok. What is your budget?\")\n",
    "        elif user_input.lower() == \"100000\":\n",
    "            print(\"Chatbot: Ok.\")\n",
    "        elif user_input.lower() == \"ok\":\n",
    "            print(\"Chatbot: Here are some top models.\")\n",
    "        elif user_input.lower() == \"thank you\":\n",
    "            print(\"Chatbot: You're welcome!\")\n",
    "            print(\"Chatbot: See you again.\")\n",
    "        else:\n",
    "            print(\"Chatbot: I didn't understand what you said. Can you please rephrase?\")\n",
    "\n",
    "chatbot()\n"
   ]
  },
  {
   "cell_type": "code",
   "execution_count": null,
   "id": "c9df3b6c",
   "metadata": {},
   "outputs": [],
   "source": []
  }
 ],
 "metadata": {
  "kernelspec": {
   "display_name": "Python [conda env:base] *",
   "language": "python",
   "name": "conda-base-py"
  },
  "language_info": {
   "codemirror_mode": {
    "name": "ipython",
    "version": 3
   },
   "file_extension": ".py",
   "mimetype": "text/x-python",
   "name": "python",
   "nbconvert_exporter": "python",
   "pygments_lexer": "ipython3",
   "version": "3.12.7"
  }
 },
 "nbformat": 4,
 "nbformat_minor": 5
}
