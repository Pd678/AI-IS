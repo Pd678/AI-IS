{
 "cells": [
  {
   "cell_type": "code",
   "execution_count": 11,
   "id": "b4d9e21a",
   "metadata": {},
   "outputs": [
    {
     "name": "stdout",
     "output_type": "stream",
     "text": [
      "[('A', 'B', 2), ('B', 'C', 1), ('B', 'D', 1)]\n"
     ]
    }
   ],
   "source": [
    "\n",
    "import heapq\n",
    "\n",
    "def prims(graph, start):\n",
    "    mst=[]\n",
    "    visited=set([start])\n",
    "    edges=[(cost,start,to) for to, cost in graph[start].items()] \n",
    "    heapq.heapify(edges)\n",
    "    while edges :\n",
    "        cost, frm, to =  heapq.heappop(edges)\n",
    "        if to not in visited:\n",
    "            visited.add(to)\n",
    "            mst.append((frm,to, cost))\n",
    "            for to_next, cost2 in graph [to].items():\n",
    "                if to_next not in visited:\n",
    "                    heapq.heappush(edges,(cost2, to, to_next))\n",
    "    return mst\n",
    "graph={\n",
    "    'A':{'B':2, 'C':3},\n",
    "    'B':{'A':2, 'C':1, 'D':1},\n",
    "    'C':{'A':3, 'B':1, 'D':4},\n",
    "    'D':{'B':1, 'C':4}\n",
    "}\n",
    "print(prims(graph, 'A'))\n",
    "\n",
    "\n",
    "\n",
    " \n",
    "    \n",
    "   "
   ]
  },
  {
   "cell_type": "code",
   "execution_count": 9,
   "id": "894d08da",
   "metadata": {},
   "outputs": [
    {
     "data": {
      "text/plain": [
       "[5, 7, 9, 10, 13, 20]"
      ]
     },
     "execution_count": 9,
     "metadata": {},
     "output_type": "execute_result"
    }
   ],
   "source": [
    "def selection_sort(arr):\n",
    "    for i in range(len(arr)):\n",
    "        min_index=i\n",
    "        for j in range(i+1, len(arr)):\n",
    "            if arr[j]<arr[min_index]:\n",
    "                min_index=j\n",
    "        arr[i], arr[min_index]=arr[min_index], arr[i]\n",
    "    return arr\n",
    "a1=[20,10,5,7,9,13]\n",
    "selection_sort(a1)"
   ]
  },
  {
   "cell_type": "code",
   "execution_count": null,
   "id": "a45574a7-169f-45bd-acd7-fe1b96562afe",
   "metadata": {},
   "outputs": [],
   "source": []
  }
 ],
 "metadata": {
  "kernelspec": {
   "display_name": "Python [conda env:base] *",
   "language": "python",
   "name": "conda-base-py"
  },
  "language_info": {
   "codemirror_mode": {
    "name": "ipython",
    "version": 3
   },
   "file_extension": ".py",
   "mimetype": "text/x-python",
   "name": "python",
   "nbconvert_exporter": "python",
   "pygments_lexer": "ipython3",
   "version": "3.12.7"
  }
 },
 "nbformat": 4,
 "nbformat_minor": 5
}
