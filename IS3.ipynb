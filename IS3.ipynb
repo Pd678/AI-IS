{
 "cells": [
  {
   "cell_type": "code",
   "execution_count": 7,
   "id": "2400ddde-7d50-4d75-9489-d9081a41eb76",
   "metadata": {},
   "outputs": [
    {
     "name": "stdin",
     "output_type": "stream",
     "text": [
      "Enter First Prime No.:  11\n",
      "Enter Second Prime No.:  13\n",
      "Enter PlainText:  pd\n"
     ]
    },
    {
     "name": "stdout",
     "output_type": "stream",
     "text": [
      "Encrypted Text: 61\n",
      "Decrypted Text: \u001d",
      "\n"
     ]
    }
   ],
   "source": [
    "# import random\n",
    "\n",
    "def gcd(a, b):\n",
    "    while b != 0:\n",
    "        a, b = b, a % b\n",
    "    return a\n",
    "\n",
    "def multiplicative_inverse(e, phi):\n",
    "    d = 0\n",
    "    x1, x2, y1 = 1, 0, 1\n",
    "    temp_phi = phi\n",
    "    while e > 0:\n",
    "        temp1 = temp_phi // e\n",
    "        temp2 = temp_phi - temp1 * e\n",
    "        temp_phi, e = e, temp2\n",
    "        x = x2 - temp1 * x1\n",
    "        y = d - temp1 * y1\n",
    "        x2, x1 = x1, x\n",
    "        d, y1 = y1, y\n",
    "    if temp_phi == 1:\n",
    "        return d + phi\n",
    "\n",
    "def generate_keypair(p, q):\n",
    "    n = p * q\n",
    "    phi = (p - 1) * (q - 1)\n",
    "    e = random.randrange(2, phi)\n",
    "    while gcd(e, phi) != 1:\n",
    "        e = random.randrange(2, phi)\n",
    "    d = multiplicative_inverse(e, phi)\n",
    "    return ((e, n), (d, n))\n",
    "\n",
    "def encrypt(public_key, plaintext):\n",
    "    e, n = public_key\n",
    "    message_int = int.from_bytes(plaintext.encode(), 'big') \n",
    "    cipher = pow(message_int, e, n)\n",
    "    return cipher\n",
    "\n",
    "def decrypt(private_key, ciphertext):\n",
    "    d, n = private_key\n",
    "    decrypted_int = pow(ciphertext, d, n)\n",
    "    decrypted_text = decrypted_int.to_bytes((decrypted_int.bit_length() + 7) // 8, 'big')\n",
    "    return decrypted_text.decode()\n",
    "\n",
    "p = int(input(\"Enter First Prime No.: \"))\n",
    "q = int(input(\"Enter Second Prime No.: \"))\n",
    "public_key, private_key = generate_keypair(p, q)\n",
    "plaintext = input(\"Enter PlainText: \")\n",
    "ciphertext = encrypt(public_key, plaintext)\n",
    "print(\"Encrypted Text:\", ciphertext)\n",
    "decrypted_text = decrypt(private_key, ciphertext)\n",
    "print(\"Decrypted Text:\", decrypted_text)\n"
   ]
  },
  {
   "cell_type": "code",
   "execution_count": null,
   "id": "6c3d0a24-a86f-403b-984f-a0307a5e0098",
   "metadata": {},
   "outputs": [],
   "source": []
  }
 ],
 "metadata": {
  "kernelspec": {
   "display_name": "Python [conda env:base] *",
   "language": "python",
   "name": "conda-base-py"
  },
  "language_info": {
   "codemirror_mode": {
    "name": "ipython",
    "version": 3
   },
   "file_extension": ".py",
   "mimetype": "text/x-python",
   "name": "python",
   "nbconvert_exporter": "python",
   "pygments_lexer": "ipython3",
   "version": "3.12.7"
  }
 },
 "nbformat": 4,
 "nbformat_minor": 5
}
