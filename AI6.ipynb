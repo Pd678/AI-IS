{
 "cells": [
  {
   "cell_type": "code",
   "execution_count": 1,
   "id": "e40bb121-6284-4681-a20d-eb61df3a1873",
   "metadata": {},
   "outputs": [
    {
     "name": "stdout",
     "output_type": "stream",
     "text": [
      "Employee Performance Evaluation\n",
      "\n",
      "Please enter positive criteria from the list below, separated by commas:\n",
      "- exceeds_deadlines\n",
      "- high_quality_work\n",
      "- great_team_player\n",
      "- consistently_improves\n",
      "- excellent_communication\n"
     ]
    },
    {
     "name": "stdin",
     "output_type": "stream",
     "text": [
      "\n",
      ">  4\n"
     ]
    },
    {
     "name": "stdout",
     "output_type": "stream",
     "text": [
      "\n",
      "Please enter negative criteria from the list below, separated by commas:\n",
      "- misses_deadlines\n",
      "- poor_quality_work\n",
      "- poor_team_player\n",
      "- resistant_to_feedback\n",
      "- poor_communication\n"
     ]
    },
    {
     "name": "stdin",
     "output_type": "stream",
     "text": [
      "\n",
      ">  -4\n"
     ]
    },
    {
     "name": "stdout",
     "output_type": "stream",
     "text": [
      "\n",
      "Employee Score: 0\n",
      "\n",
      "Performance: Needs Improvement\n"
     ]
    }
   ],
   "source": [
    "positive_criteria = {\n",
    "    \"exceeds_deadlines\": 5,\n",
    "    \"high_quality_work\": 4,\n",
    "    \"great_team_player\": 3,\n",
    "    \"consistently_improves\": 2,\n",
    "    \"excellent_communication\": 1\n",
    "}\n",
    "\n",
    "negative_criteria = {\n",
    "    \"misses_deadlines\": -5,\n",
    "    \"poor_quality_work\": -4,\n",
    "    \"poor_team_player\": -3,\n",
    "    \"resistant_to_feedback\": -2,\n",
    "    \"poor_communication\": -1\n",
    "}\n",
    "\n",
    "# Rule Engine\n",
    "def evaluate_employee(positives, negatives):\n",
    "    score = 0\n",
    "    for pos in positives:\n",
    "        score += positive_criteria.get(pos, 0)\n",
    "    for neg in negatives:\n",
    "        score += negative_criteria.get(neg, 0)\n",
    "    return score\n",
    "\n",
    "# User Interface\n",
    "def user_interface():\n",
    "    print(\"Employee Performance Evaluation\\n\")\n",
    "\n",
    "    print(\"Please enter positive criteria from the list below, separated by commas:\")\n",
    "    for criterion in positive_criteria:\n",
    "        print(f\"- {criterion}\")\n",
    "\n",
    "    positives_input = input(\"\\n> \")\n",
    "\n",
    "    print(\"\\nPlease enter negative criteria from the list below, separated by commas:\")\n",
    "    for criterion in negative_criteria:\n",
    "        print(f\"- {criterion}\")\n",
    "\n",
    "    negatives_input = input(\"\\n> \")\n",
    "\n",
    "    positives = [item.strip() for item in positives_input.split(\",\")]\n",
    "    negatives = [item.strip() for item in negatives_input.split(\",\")]\n",
    "\n",
    "    score = evaluate_employee(positives, negatives)\n",
    "\n",
    "    print(f\"\\nEmployee Score: {score}\\n\")\n",
    "    if score > 10:\n",
    "        print(\"Performance: Outstanding\")\n",
    "    elif score > 5:\n",
    "        print(\"Performance: Good\")\n",
    "    elif score > 0:\n",
    "        print(\"Performance: Satisfactory\")\n",
    "    else:\n",
    "        print(\"Performance: Needs Improvement\")\n",
    "\n",
    "if __name__ == \"__main__\":\n",
    "    user_interface()\n"
   ]
  },
  {
   "cell_type": "code",
   "execution_count": null,
   "id": "db897275-d4a8-480a-b7a2-68330c3eeee1",
   "metadata": {},
   "outputs": [],
   "source": []
  },
  {
   "cell_type": "code",
   "execution_count": null,
   "id": "0aaa745f-4e56-4e2a-a3a3-a98db4165680",
   "metadata": {},
   "outputs": [],
   "source": []
  }
 ],
 "metadata": {
  "kernelspec": {
   "display_name": "Python [conda env:base] *",
   "language": "python",
   "name": "conda-base-py"
  },
  "language_info": {
   "codemirror_mode": {
    "name": "ipython",
    "version": 3
   },
   "file_extension": ".py",
   "mimetype": "text/x-python",
   "name": "python",
   "nbconvert_exporter": "python",
   "pygments_lexer": "ipython3",
   "version": "3.12.7"
  }
 },
 "nbformat": 4,
 "nbformat_minor": 5
}
