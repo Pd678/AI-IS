{
 "cells": [
  {
   "cell_type": "code",
   "execution_count": 3,
   "id": "5108e477-9cdb-4904-a3ec-b345f875841e",
   "metadata": {},
   "outputs": [
    {
     "name": "stdin",
     "output_type": "stream",
     "text": [
      "Enter String:  sinhgadacademy\n"
     ]
    },
    {
     "name": "stdout",
     "output_type": "stream",
     "text": [
      "Encrypted Message: sadhcynamga_ide\n",
      "Decrypted Message: sinhgadacademy\n"
     ]
    }
   ],
   "source": [
    "import math\n",
    "\n",
    "key = \"Sumit\"\n",
    "\n",
    "def encryptMessage(msg):\n",
    "    cipher = \"\"\n",
    "    k_indx = 0\n",
    "    msg_len = float(len(msg))\n",
    "    msg_lst = list(msg)\n",
    "    key_list = sorted(list(key)) \n",
    "    col = len(key)\n",
    "    row = int(math.ceil(msg_len / col))\n",
    "    fill_null = int((row * col) - msg_len)\n",
    "    msg_lst.extend('_' * fill_null)\n",
    "    \n",
    "    matrix = [msg_lst[i: i + col] for i in range(0, len(msg_lst), col)]\n",
    "    \n",
    "    for _ in range(col):\n",
    "        curr_idx = key.index(key_list[k_indx]) \n",
    "        cipher += ''.join([row[curr_idx] for row in matrix])\n",
    "        k_indx += 1\n",
    "    \n",
    "    return cipher\n",
    "\n",
    "def decryptMessage(cipher):\n",
    "    msg = \"\"\n",
    "    k_indx = 0\n",
    "    msg_indx = 0\n",
    "    msg_len = float(len(cipher))\n",
    "    msg_lst = list(cipher)\n",
    "    col = len(key)\n",
    "    row = int(math.ceil(msg_len / col))\n",
    "    key_list = sorted(list(key))\n",
    "    \n",
    "    dec_cipher = [[''] * col for _ in range(row)]\n",
    "    \n",
    "    for _ in range(col):\n",
    "        curr_idx = key.index(key_list[k_indx])\n",
    "        for j in range(row):\n",
    "            dec_cipher[j][curr_idx] = msg_lst[msg_indx]\n",
    "            msg_indx += 1\n",
    "        k_indx += 1\n",
    "    \n",
    "    try:\n",
    "        msg = ''.join(sum(dec_cipher, []))\n",
    "    except TypeError:\n",
    "        raise TypeError(\"This program cannot handle repeating words.\")\n",
    "    \n",
    "    null_count = msg.count('_')\n",
    "    if null_count > 0:\n",
    "        return msg[:-null_count]\n",
    "    \n",
    "    return msg\n",
    "\n",
    "msg = input(\"Enter String: \")\n",
    "cipher = encryptMessage(msg)\n",
    "print(\"Encrypted Message: {}\".format(cipher))\n",
    "print(\"Decrypted Message: {}\".format(decryptMessage(cipher)))\n"
   ]
  },
  {
   "cell_type": "code",
   "execution_count": null,
   "id": "ae76edf5-7e83-42a3-9852-21b679c02fd6",
   "metadata": {},
   "outputs": [],
   "source": []
  }
 ],
 "metadata": {
  "kernelspec": {
   "display_name": "Python [conda env:base] *",
   "language": "python",
   "name": "conda-base-py"
  },
  "language_info": {
   "codemirror_mode": {
    "name": "ipython",
    "version": 3
   },
   "file_extension": ".py",
   "mimetype": "text/x-python",
   "name": "python",
   "nbconvert_exporter": "python",
   "pygments_lexer": "ipython3",
   "version": "3.12.7"
  }
 },
 "nbformat": 4,
 "nbformat_minor": 5
}
