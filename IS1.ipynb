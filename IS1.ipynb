{
 "cells": [
  {
   "cell_type": "code",
   "execution_count": 10,
   "id": "f3353490-db4a-46d3-b78d-fe61f859a140",
   "metadata": {},
   "outputs": [
    {
     "name": "stdin",
     "output_type": "stream",
     "text": [
      "Enter String:  sinhgad\n"
     ]
    },
    {
     "name": "stdout",
     "output_type": "stream",
     "text": [
      "Original String: sinhgad\n",
      "AND Result: sinhgad\n",
      "XOR Result: \f",
      "\u0016\u0011\u0017\u0018\u001e",
      "\u001b\n"
     ]
    }
   ],
   "source": [
    "input_str = input(\"Enter String: \")\n",
    "res_and = \"\"\n",
    "res_xor = \"\"\n",
    "for char in input_str:\n",
    "    and_val = ord(char) & 127\n",
    "    xor_val = ord(char) ^ 127\n",
    "    \n",
    "    res_and += chr(and_val)\n",
    "    res_xor += chr(xor_val)\n",
    "\n",
    "print(\"Original String:\", input_str)\n",
    "print(\"AND Result:\", res_and)\n",
    "print(\"XOR Result:\", res_xor)\n"
   ]
  },
  {
   "cell_type": "code",
   "execution_count": null,
   "id": "e8efe748-9b71-48d2-89d2-9bcf27e6ec88",
   "metadata": {},
   "outputs": [],
   "source": []
  }
 ],
 "metadata": {
  "kernelspec": {
   "display_name": "Python [conda env:base] *",
   "language": "python",
   "name": "conda-base-py"
  },
  "language_info": {
   "codemirror_mode": {
    "name": "ipython",
    "version": 3
   },
   "file_extension": ".py",
   "mimetype": "text/x-python",
   "name": "python",
   "nbconvert_exporter": "python",
   "pygments_lexer": "ipython3",
   "version": "3.12.7"
  }
 },
 "nbformat": 4,
 "nbformat_minor": 5
}
